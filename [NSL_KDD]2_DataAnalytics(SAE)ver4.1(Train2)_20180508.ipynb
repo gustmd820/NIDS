{
 "cells": [
  {
   "cell_type": "markdown",
   "metadata": {},
   "source": [
    "+ 작성자: 최현승\n",
    "+ 최종 작성일: 2018-03-26\n",
    "+ 작성내용:Data Analytics\n",
    "    1. Data Preprocessing\n",
    "    2. Data Analytics\n",
    "        + 2.1 Autoencoder\n",
    "        + 2.2 Stacked Autoencoder\n",
    "+ 데이터: \n",
    "    + train,test data set으로 구분된 NSL-KDD(전처리됨)\n",
    "        + 입력데이터: 수치형데이터 + binary 데이터 + 카테고리 데이터\n",
    "        + data/df_train = 전체데이터의 85%를 정상/비정상 95:5 비중으로 조절 \n",
    "        + data/df_test = 전체데이터의 15%\n",
    "        + 원본: NSL-KDD http://www.unb.ca/cic/datasets/nsl.html"
   ]
  },
  {
   "cell_type": "code",
   "execution_count": 1,
   "metadata": {
    "collapsed": true
   },
   "outputs": [],
   "source": [
    "model_name ='SAE_Train2'"
   ]
  },
  {
   "cell_type": "code",
   "execution_count": 2,
   "metadata": {
    "collapsed": true
   },
   "outputs": [],
   "source": [
    "import pandas as pd\n",
    "import numpy as np\n",
    "import sys\n",
    "import tensorflow as tf"
   ]
  },
  {
   "cell_type": "markdown",
   "metadata": {},
   "source": [
    "# 1. Data Preprocessing"
   ]
  },
  {
   "cell_type": "code",
   "execution_count": 3,
   "metadata": {
    "collapsed": true
   },
   "outputs": [],
   "source": [
    "# Data Import \n",
    "df_train = pd.read_csv('data/df_train2(preprocessed).csv')\n",
    "df_test = pd.read_csv('data/df_test(preprocessed).csv')"
   ]
  },
  {
   "cell_type": "code",
   "execution_count": 4,
   "metadata": {
    "collapsed": true
   },
   "outputs": [],
   "source": [
    "# 수치형 변수 리스트\n",
    "numeric_fields = ['duration', 'src_bytes',\n",
    "       'dst_bytes', 'wrong_fragment', 'urgent', 'hot',\n",
    "       'num_failed_logins', 'num_compromised', 'root_shell',\n",
    "       'su_attempted', 'num_root', 'num_file_creations', 'num_shells',\n",
    "       'num_access_files', 'num_outbound_cmds', 'count', 'srv_count', 'serror_rate',\n",
    "       'srv_serror_rate', 'rerror_rate', 'srv_rerror_rate', 'same_srv_rate',\n",
    "       'diff_srv_rate', 'srv_diff_host_rate', 'dst_host_count',\n",
    "       'dst_host_srv_count', 'dst_host_same_srv_rate',\n",
    "       'dst_host_diff_srv_rate', 'dst_host_same_src_port_rate',\n",
    "       'dst_host_srv_diff_host_rate', 'dst_host_serror_rate',\n",
    "       'dst_host_srv_serror_rate', 'dst_host_rerror_rate',\n",
    "       'dst_host_srv_rerror_rate']\n",
    "\n",
    "# 부울형 변수 리스트 \n",
    "binary_fields = ['land', 'logged_in', 'is_host_login','is_guest_login']\n",
    "\n",
    "# 카테고리형 변수 리스트\n",
    "category_fields = ['protocol_type1', 'protocol_type2', 'protocol_type3',\n",
    "                   'service1', 'service2', 'service3', 'service4', 'service5',\n",
    "                   'service6', 'service7', 'service8', 'service9', 'service10',\n",
    "                   'service11', 'service12', 'service13', 'service14', 'service15',\n",
    "                   'service16', 'service17', 'service18', 'service19', 'service20',\n",
    "                   'service21', 'service22', 'service23', 'service24', 'service25',\n",
    "                   'service26', 'service27',\n",
    "                   'flag1', 'flag2', 'flag3', 'flag4', 'flag5',\n",
    "                   'flag6', 'flag7', 'flag8', 'flag9']\n",
    "\n",
    "total_fields = numeric_fields + binary_fields + category_fields\n",
    "\n",
    "# numpy.array로 변환 \n",
    "X_train = np.array(df_train[total_fields])\n",
    "\n",
    "X_train_inputs, X_train_labels = \\\n",
    "                            np.array(df_train[total_fields]), np.array(df_train['attack_type'])\n",
    "    \n",
    "X_test_inputs, X_test_labels = \\\n",
    "                            np.array(df_test[total_fields]), np.array(df_test['attack_type'])\n",
    "X_test_total = np.append(X_test_inputs, X_test_labels.reshape(-1,1), axis=1)  "
   ]
  },
  {
   "cell_type": "markdown",
   "metadata": {},
   "source": [
    "# 2. Data Analyatics"
   ]
  },
  {
   "cell_type": "code",
   "execution_count": 5,
   "metadata": {
    "collapsed": true
   },
   "outputs": [],
   "source": [
    "from analytics_module import * \n",
    "import pickle"
   ]
  },
  {
   "cell_type": "markdown",
   "metadata": {},
   "source": [
    "## 2.2.2 Stacked Autoencoder(2 Phased)"
   ]
  },
  {
   "cell_type": "code",
   "execution_count": 6,
   "metadata": {
    "collapsed": true
   },
   "outputs": [],
   "source": [
    "n_inputs = X_train.shape[1]\n",
    "n_hidden1 = 32\n",
    "n_hidden2 = 16  # codings\n",
    "n_hidden3 = n_hidden1\n",
    "n_outputs = n_inputs\n",
    "\n",
    "learning_rate = 0.0001\n",
    "l2_reg = 0.01\n",
    "\n",
    "\n",
    "activation = tf.nn.relu\n",
    "regularizer = tf.contrib.layers.l2_regularizer(l2_reg)\n",
    "initializer = tf.contrib.layers.variance_scaling_initializer()\n",
    "\n",
    "X = tf.placeholder(tf.float32, shape=[None, n_inputs])\n",
    "\n",
    "weights1_init = initializer([n_inputs, n_hidden1])\n",
    "weights2_init = initializer([n_hidden1, n_hidden2])\n",
    "weights3_init = initializer([n_hidden2, n_hidden3])\n",
    "weights4_init = initializer([n_hidden3, n_outputs])\n",
    "\n",
    "weights1 = tf.Variable(weights1_init, dtype=tf.float32, name=\"weights1\")\n",
    "weights2 = tf.Variable(weights2_init, dtype=tf.float32, name=\"weights2\")\n",
    "weights3 = tf.Variable(weights3_init, dtype=tf.float32, name=\"weights3\")\n",
    "weights4 = tf.Variable(weights4_init, dtype=tf.float32, name=\"weights4\")\n",
    "\n",
    "biases1 = tf.Variable(tf.zeros(n_hidden1), name=\"biases1\")\n",
    "biases2 = tf.Variable(tf.zeros(n_hidden2), name=\"biases2\")\n",
    "biases3 = tf.Variable(tf.zeros(n_hidden3), name=\"biases3\")\n",
    "biases4 = tf.Variable(tf.zeros(n_outputs), name=\"biases4\")\n",
    "\n",
    "hidden1 = activation(tf.matmul(X, weights1) + biases1)\n",
    "hidden2 = activation(tf.matmul(hidden1, weights2) + biases2)\n",
    "hidden3 = activation(tf.matmul(hidden2, weights3) + biases3)\n",
    "outputs = tf.matmul(hidden3, weights4) + biases4\n",
    "\n",
    "reconstruction_loss = tf.reduce_mean(tf.square(outputs - X))\n",
    "\n",
    "optimizer = tf.train.AdamOptimizer(learning_rate)\n",
    "\n",
    "with tf.name_scope(\"phase1\"):\n",
    "    phase1_outputs = tf.matmul(hidden1, weights4) + biases4  # bypass hidden2 and hidden3\n",
    "    phase1_reconstruction_loss = tf.reduce_mean(tf.square(phase1_outputs - X))\n",
    "    phase1_reg_loss = regularizer(weights1) + regularizer(weights4)\n",
    "    phase1_loss = phase1_reconstruction_loss + phase1_reg_loss\n",
    "    phase1_training_op = optimizer.minimize(phase1_loss)\n",
    "\n",
    "with tf.name_scope(\"phase2\"):\n",
    "    phase2_reconstruction_loss = tf.reduce_mean(tf.square(hidden3 - hidden1))\n",
    "    phase2_reg_loss = regularizer(weights2) + regularizer(weights3)\n",
    "    phase2_loss = phase2_reconstruction_loss + phase2_reg_loss\n",
    "    train_vars = [weights2, biases2, weights3, biases3]\n",
    "    phase2_training_op = optimizer.minimize(phase2_loss, var_list=train_vars) # freeze hidden1\n",
    "    \n",
    "saver = tf.train.Saver(max_to_keep=1000)\n",
    "\n",
    "phase1_errors = []\n",
    "phase2_errors = []\n",
    "\n",
    "training_ops = [phase1_training_op, phase2_training_op]\n",
    "reconstruction_losses = [phase1_reconstruction_loss, phase2_reconstruction_loss]\n",
    "n_epochs = [11, 11]\n",
    "batch_sizes = [256, 256]\n",
    "num_examples = X_train.shape[0]\n",
    "\n",
    "\n",
    "init = tf.global_variables_initializer()\n",
    "sess = tf.Session()\n",
    "sess.run(init)    "
   ]
  },
  {
   "cell_type": "code",
   "execution_count": null,
   "metadata": {
    "collapsed": true
   },
   "outputs": [],
   "source": [
    "\n",
    "for phase in range(2):\n",
    "    print(\"Training phase #{}\".format(phase + 1))\n",
    "    for epoch in range(n_epochs[phase]):\n",
    "        n_batches = num_examples // batch_sizes[phase]\n",
    "        for iteration in range(n_batches):\n",
    "            #print(\"\\r{}%\".format(100 * iteration // n_batches), end=\"\")\n",
    "            #sys.stdout.flush()\n",
    "            X_batch = next_batch(batch_sizes[phase], X_train)\n",
    "            sess.run(training_ops[phase], feed_dict={X: X_batch})\n",
    "        loss_train = reconstruction_losses[phase].eval(session=sess,feed_dict={X: X_batch})\n",
    "        if(phase + 1 == 1):\n",
    "            phase1_errors.append(loss_train)\n",
    "        if(phase + 1 == 2):\n",
    "            phase2_errors.append(loss_train)    \n",
    "        if epoch % 10 == 0: \n",
    "            print(\"\\r{}\".format(epoch), \"Train MSE:\", loss_train)  \n",
    "            \n",
    "# model save     \n",
    "model_save_dir = './my_test_model/' + model_name+ '/l2_reg'+ str(l2_reg)+ '/learing_rate' + str(learning_rate) + '/epoch' + str(epoch)\n",
    "print(\"model save : \",model_save_dir)\n",
    "saver.save(sess, model_save_dir)            \n",
    "\n",
    "# cost list save\n",
    "cost_dir = './cost_list/' + model_name+ '/l2_reg'+ str(l2_reg) + '/learning_rate' + str(learning_rate) + '_epoch' + str(epoch) "
   ]
  },
  {
   "cell_type": "code",
   "execution_count": null,
   "metadata": {
    "collapsed": true
   },
   "outputs": [],
   "source": [
    "import matplotlib.pyplot as plt\n",
    "plt.plot(phase1_errors, label='phase1_error')\n",
    "plt.plot(phase2_errors, label='phase2_error')\n",
    "\n",
    "plt.legend(bbox_to_anchor=(1.05, 1), loc=2, borderaxespad=0.)\n",
    "plt.show()"
   ]
  },
  {
   "cell_type": "markdown",
   "metadata": {},
   "source": [
    "### Stacked Autoencoder Test(2-Phased)"
   ]
  },
  {
   "cell_type": "code",
   "execution_count": 7,
   "metadata": {},
   "outputs": [
    {
     "name": "stdout",
     "output_type": "stream",
     "text": [
      "INFO:tensorflow:Restoring parameters from ./my_test_model/SAE_Train2/l2_reg0.01/learing_rate0.0001/epoch10\n"
     ]
    }
   ],
   "source": [
    "# model restore\n",
    "#learning_rate = 0.005\n",
    "#le_reg  0.0001\n",
    "epoch = 10\n",
    "\n",
    "model_save_dir = './my_test_model/' + model_name+ '/l2_reg'+ str(l2_reg)+ '/learing_rate' + str(learning_rate) + '/epoch' + str(epoch)\n",
    "saver.restore(sess, model_save_dir)"
   ]
  },
  {
   "cell_type": "code",
   "execution_count": 8,
   "metadata": {},
   "outputs": [
    {
     "name": "stdout",
     "output_type": "stream",
     "text": [
      "mu=1.365911, sigma=0.491667\n",
      "threshold_1=2.511495, threshold_5=2.174703, threshold_10=1.995245, threshold_50=1.365911\n",
      "tn:11118.00000, fp:491.00000, fn:1711.00000, tp:8958.00000, total:.22278.000000\n",
      "accuracy: 0.90116, f1_score: 0.89055\n",
      "sensitivity : 0.83963, specificity : 0.95771\n",
      "precision : 0.94804, recall : 0.83963\n"
     ]
    }
   ],
   "source": [
    "# Reconstruction Error Threshold 계산\n",
    "input_data = X_train_inputs\n",
    "output_data = sess.run(outputs, feed_dict={X: input_data})\n",
    "total_data = X_train\n",
    "\n",
    "df_performance = get_df_performance(input_data=input_data, output_data=output_data, total_data=total_data)\n",
    "\n",
    "train_error = df_performance['error']\n",
    "mu, sigma = error_statistics_check(train_error)\n",
    "\n",
    "# 1%: mu + 2.33 * sigma\n",
    "# 5%: mu + 1.645 * sigma\n",
    "# 10%: mu + 1.28 * sigma \n",
    "\n",
    "threshold_1 = mu + (2.33 * sigma)\n",
    "threshold_5 = mu + (1.645 * sigma)\n",
    "threshold_10 = mu + (1.28 * sigma)\n",
    "threshold_50 = mu\n",
    "\n",
    "print(\"threshold_1=%f, threshold_5=%f, threshold_10=%f, threshold_50=%f\"%(threshold_1, threshold_5, threshold_10, threshold_50))\n",
    "\n",
    "# Test dataset으로 검증 \n",
    "input_data = X_test_inputs\n",
    "output_data = sess.run(outputs, feed_dict={X: input_data})\n",
    "total_data = X_test_total\n",
    "\n",
    "df_performance = get_df_performance(input_data=input_data, output_data=output_data, total_data=total_data)\n",
    "performance_check(threshold = threshold_5, df = df_performance)"
   ]
  },
  {
   "cell_type": "markdown",
   "metadata": {},
   "source": [
    "# Visualization"
   ]
  },
  {
   "cell_type": "code",
   "execution_count": 9,
   "metadata": {},
   "outputs": [
    {
     "data": {
      "image/png": "[encoded data removed]",
      "text/plain": [
       "<matplotlib.figure.Figure at 0x24493e66b00>"
      ]
     },
     "metadata": {},
     "output_type": "display_data"
    }
   ],
   "source": [
    "import numpy\n",
    "import matplotlib.pyplot as plt\n",
    "# test \n",
    "normal_error = df_performance[df_performance['attack_types'] == 'normal']['error']\n",
    "abnormal_error = df_performance[df_performance['attack_types'] == 'abnormal']['error']\n",
    "\n",
    "fig = plt.figure()\n",
    "bins = numpy.linspace(0, 3.5, 100)\n",
    "\n",
    "plt.title('Stacked Autoencoder\\n(Train Data 2: Normal 95%, Abnormal 5%)')\n",
    "plt.xlabel('Reconstruction Errors')\n",
    "plt.ylabel('Frequency')\n",
    "plt.axvline(x=threshold_5, color='black', linestyle='dashed', label='threshold')\n",
    "plt.hist(normal_error, bins, alpha=0.5, label='normal')\n",
    "plt.hist(abnormal_error, bins, alpha=0.5, label='abnormal')\n",
    "plt.legend(loc='upper right', prop={'size': 8})\n",
    "plt.show()\n",
    "fig.savefig(model_save_dir+'.png')"
   ]
  },
  {
   "cell_type": "code",
   "execution_count": null,
   "metadata": {
    "collapsed": true
   },
   "outputs": [],
   "source": []
  }
 ],
 "metadata": {
  "kernelspec": {
   "display_name": "Python 3",
   "language": "python",
   "name": "python3"
  },
  "language_info": {
   "codemirror_mode": {
    "name": "ipython",
    "version": 3
   },
   "file_extension": ".py",
   "mimetype": "text/x-python",
   "name": "python",
   "nbconvert_exporter": "python",
   "pygments_lexer": "ipython3",
   "version": "3.5.4"
  }
 },
 "nbformat": 4,
 "nbformat_minor": 2
}
