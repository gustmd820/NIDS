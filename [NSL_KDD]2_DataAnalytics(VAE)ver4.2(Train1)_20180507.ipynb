{
 "cells": [
  {
   "cell_type": "markdown",
   "metadata": {},
   "source": [
    "+ 작성자: 최현승\n",
    "+ 최종 작성일: 2018-04-26\n",
    "+ 작성내용:Data Analytics(learning rate 조정)\n",
    "    1. Data Preprocessing\n",
    "    2. Data Analytics:Variational Autoencoder\n",
    "+ 데이터: \n",
    "    + train,test data set으로 구분된 NSL-KDD(전처리됨)\n",
    "        + 입력데이터: 수치형데이터 + binary 데이터 + 카테고리 데이터\n",
    "        + data/df_train = 전체데이터의 85%를 정상/비정상 99:1 비중으로 조절 \n",
    "        + data/df_test = 전체데이터의 15%\n",
    "        + 원본: NSL-KDD http://www.unb.ca/cic/datasets/nsl.html"
   ]
  },
  {
   "cell_type": "code",
   "execution_count": 1,
   "metadata": {
    "collapsed": true
   },
   "outputs": [],
   "source": [
    "model_name ='VAE_Train1'"
   ]
  },
  {
   "cell_type": "code",
   "execution_count": 2,
   "metadata": {
    "collapsed": true
   },
   "outputs": [],
   "source": [
    "import pandas as pd\n",
    "import numpy as np\n",
    "import sys\n",
    "import tensorflow as tf"
   ]
  },
  {
   "cell_type": "markdown",
   "metadata": {},
   "source": [
    "# 1. Data Preprocessing"
   ]
  },
  {
   "cell_type": "code",
   "execution_count": 3,
   "metadata": {
    "collapsed": true
   },
   "outputs": [],
   "source": [
    "# Data Import \n",
    "df_train = pd.read_csv('data/df_train1(preprocessed).csv')\n",
    "df_test = pd.read_csv('data/df_test(preprocessed).csv')"
   ]
  },
  {
   "cell_type": "code",
   "execution_count": 4,
   "metadata": {
    "collapsed": true
   },
   "outputs": [],
   "source": [
    "# 수치형 변수 리스트\n",
    "numeric_fields = ['duration', 'src_bytes',\n",
    "       'dst_bytes', 'wrong_fragment', 'urgent', 'hot',\n",
    "       'num_failed_logins', 'num_compromised', 'root_shell',\n",
    "       'su_attempted', 'num_root', 'num_file_creations', 'num_shells',\n",
    "       'num_access_files', 'num_outbound_cmds', 'count', 'srv_count', 'serror_rate',\n",
    "       'srv_serror_rate', 'rerror_rate', 'srv_rerror_rate', 'same_srv_rate',\n",
    "       'diff_srv_rate', 'srv_diff_host_rate', 'dst_host_count',\n",
    "       'dst_host_srv_count', 'dst_host_same_srv_rate',\n",
    "       'dst_host_diff_srv_rate', 'dst_host_same_src_port_rate',\n",
    "       'dst_host_srv_diff_host_rate', 'dst_host_serror_rate',\n",
    "       'dst_host_srv_serror_rate', 'dst_host_rerror_rate',\n",
    "       'dst_host_srv_rerror_rate']\n",
    "\n",
    "# 부울형 변수 리스트 \n",
    "binary_fields = ['land', 'logged_in', 'is_host_login','is_guest_login']\n",
    "\n",
    "# 카테고리형 변수 리스트\n",
    "category_fields = ['protocol_type1', 'protocol_type2', 'protocol_type3',\n",
    "                   'service1', 'service2', 'service3', 'service4', 'service5',\n",
    "                   'service6', 'service7', 'service8', 'service9', 'service10',\n",
    "                   'service11', 'service12', 'service13', 'service14', 'service15',\n",
    "                   'service16', 'service17', 'service18', 'service19', 'service20',\n",
    "                   'service21', 'service22', 'service23', 'service24', 'service25',\n",
    "                   'service26', 'service27',\n",
    "                   'flag1', 'flag2', 'flag3', 'flag4', 'flag5',\n",
    "                   'flag6', 'flag7', 'flag8', 'flag9']\n",
    "\n",
    "total_fields = numeric_fields + binary_fields + category_fields\n",
    "\n",
    "# numpy.array로 변환 \n",
    "X_train = np.array(df_train[total_fields])\n",
    "\n",
    "X_train_inputs, X_train_labels = \\\n",
    "                            np.array(df_train[total_fields]), np.array(df_train['attack_type'])\n",
    "    \n",
    "X_test_inputs, X_test_labels = \\\n",
    "                            np.array(df_test[total_fields]), np.array(df_test['attack_type'])\n",
    "X_test_total = np.append(X_test_inputs, X_test_labels.reshape(-1,1), axis=1)  "
   ]
  },
  {
   "cell_type": "markdown",
   "metadata": {},
   "source": [
    "# 2. Data Analyatics"
   ]
  },
  {
   "cell_type": "markdown",
   "metadata": {
    "collapsed": true
   },
   "source": [
    "## 2.5 Variational Autoencoder"
   ]
  },
  {
   "cell_type": "code",
   "execution_count": 5,
   "metadata": {
    "collapsed": true
   },
   "outputs": [],
   "source": [
    "from analytics_module import * \n",
    "from functools import partial\n",
    "from datetime import datetime\n",
    "import pickle "
   ]
  },
  {
   "cell_type": "code",
   "execution_count": 6,
   "metadata": {
    "collapsed": true
   },
   "outputs": [],
   "source": [
    "n_inputs = X_train.shape[1]\n",
    "n_hidden1 = 32\n",
    "n_hidden2 = 16  # codings\n",
    "n_hidden3 = n_hidden1\n",
    "n_outputs = n_inputs\n",
    "learning_rate = 0.0001\n",
    "l2_reg = 0.01\n",
    "\n",
    "initializer = tf.contrib.layers.variance_scaling_initializer()\n",
    "\n",
    "my_dense_layer = partial(\n",
    "    tf.layers.dense,\n",
    "    activation=tf.nn.relu,\n",
    "    kernel_initializer=initializer,\n",
    "    kernel_regularizer=tf.contrib.layers.l2_regularizer(l2_reg)\n",
    ")\n",
    "\n",
    "X = tf.placeholder(tf.float32, [None, n_inputs])\n",
    "hidden1 = my_dense_layer(X, n_hidden1)\n",
    "hidden2_mean = my_dense_layer(hidden1, n_hidden2, activation=None)\n",
    "hidden2_sigma = my_dense_layer(hidden1, n_hidden2, activation=None)\n",
    "noise = tf.random_normal(tf.shape(hidden2_sigma), dtype=tf.float32)\n",
    "hidden2 = hidden2_mean + hidden2_sigma * noise\n",
    "        #hidden2 = my_dense_layer(hidden1, n_hidden2)\n",
    "        #hidden3_mean = my_dense_layer(hidden2, n_hidden3, activation=None)\n",
    "        #hidden3_sigma = my_dense_layer(hidden2, n_hidden3, activation=None)\n",
    "hidden3 = my_dense_layer(hidden2, n_hidden3)\n",
    "logits = my_dense_layer(hidden3, n_outputs, activation=None)\n",
    "outputs = tf.sigmoid(logits)\n",
    "\n",
    "xentropy = tf.nn.sigmoid_cross_entropy_with_logits(labels=X, logits=logits)\n",
    "reconstruction_loss = tf.reduce_sum(xentropy)\n",
    "eps = 1e-10 # smoothing term to avoid computing log(0) which is NaN\n",
    "latent_loss = 0.5 * tf.reduce_sum(\n",
    "    tf.square(hidden2_sigma) + tf.square(hidden2_mean)\n",
    "    - 1 - tf.log(eps + tf.square(hidden2_sigma)))\n",
    "\n",
    "loss = reconstruction_loss + latent_loss\n",
    "\n",
    "optimizer = tf.train.AdamOptimizer(learning_rate=learning_rate)\n",
    "training_op = optimizer.minimize(loss)\n",
    "\n",
    "init = tf.global_variables_initializer()\n",
    "saver = tf.train.Saver(max_to_keep=1000)\n",
    "\n",
    "total_errors = []\n",
    "recon_errors = []\n",
    "latent_errors = []\n",
    "\n",
    "n_epochs = 51\n",
    "batch_size = 256\n",
    "\n",
    "init = tf.global_variables_initializer()\n",
    "sess = tf.Session()\n",
    "sess.run(init)\n",
    "\n",
    "num_examples = X_train.shape[0]"
   ]
  },
  {
   "cell_type": "code",
   "execution_count": null,
   "metadata": {
    "collapsed": true
   },
   "outputs": [],
   "source": [
    "print(datetime.now().strftime('%Y-%m-%d %H:%M:%S'))\n",
    "for epoch in range(n_epochs):\n",
    "    n_batches = num_examples // batch_size\n",
    "    for iteration in range(n_batches):\n",
    "            #print(\"\\r{}%\".format(100 * iteration // n_batches), end=\"\")\n",
    "        sys.stdout.flush()\n",
    "        X_batch = next_batch(batch_size, X_train)\n",
    "        sess.run(training_op, feed_dict={X: X_batch})\n",
    "    loss_val, reconstruction_loss_val, latent_loss_val = sess.run([loss, reconstruction_loss, latent_loss], feed_dict={X: X_batch})\n",
    "    total_errors.append(loss_val)\n",
    "    recon_errors.append(reconstruction_loss_val)\n",
    "    latent_errors.append(latent_loss_val)\n",
    "    \n",
    "    \n",
    "    \n",
    "    if epoch % 5 == 0 :\n",
    "        model_save_dir = './my_test_model/' + model_name+ '/l2_reg'+ str(l2_reg)+ '/learing_rate' + str(learning_rate) + '/epoch' + str(epoch)\n",
    "        print(\"model save : \",model_save_dir)\n",
    "        saver.save(sess, model_save_dir)\n",
    "    \n",
    "    if epoch % 10 == 0:\n",
    "        print(\"\\n\\r{}\".format(epoch), \"Train total loss:\", loss_val, \"\\tReconstruction loss:\", reconstruction_loss_val, \"\\tLatent loss:\", latent_loss_val)\n",
    "            #saver.save(sess, \"./my_model_variational.ckpt\")\n",
    "    \n",
    "    # cost list save\n",
    "cost_dir = './cost_list/' + model_name+ '/l2_reg'+ str(l2_reg) + '/learning_rate' + str(learning_rate) + '_epoch' + str(epoch) \n",
    "\n",
    "print(\"model save : \",cost_dir)\n",
    "with open(cost_dir+'total_errors.pkl', 'wb') as f:\n",
    "    pickle.dump(total_errors, f)\n",
    "\n",
    "with open(cost_dir+'recon_errors.pkl', 'wb') as f:\n",
    "    pickle.dump(recon_errors, f)\n",
    "\n",
    "with open(cost_dir+'latent_errors.pkl', 'wb') as f:\n",
    "    pickle.dump(latent_errors, f)    \n",
    "\n",
    "datetime.now().strftime('%Y-%m-%d %H:%M:%S')"
   ]
  },
  {
   "cell_type": "code",
   "execution_count": null,
   "metadata": {
    "collapsed": true
   },
   "outputs": [],
   "source": [
    "# cost list load\n",
    "#learning_rate = 0.005\n",
    "epoch = n_epochs - 1\n",
    "cost_dir = './cost_list/' + model_name+ '/l2_reg'+ str(l2_reg) + '/learning_rate' + str(learning_rate) + '_epoch' + str(epoch) \n",
    "\n",
    "import pickle\n",
    "with open(cost_dir+'total_errors.pkl', 'rb') as f:\n",
    "    total_errors = pickle.load(f)\n",
    "    \n",
    "with open(cost_dir+'recon_errors.pkl', 'rb') as f:\n",
    "    recon_errors = pickle.load(f)    \n",
    "    \n",
    "with open(cost_dir+'latent_errors.pkl', 'rb') as f:\n",
    "    latent_errors = pickle.load(f)     \n",
    "    \n",
    "import matplotlib.pyplot as plt\n",
    "plt.plot(total_errors, label='total_errors')\n",
    "plt.plot(recon_errors, label='recon_errors')\n",
    "plt.plot(latent_errors, label='latent_errors')\n",
    "plt.legend(bbox_to_anchor=(1.05, 1), loc=2, borderaxespad=0.)\n",
    "plt.show()    "
   ]
  },
  {
   "cell_type": "markdown",
   "metadata": {},
   "source": [
    "# Test"
   ]
  },
  {
   "cell_type": "code",
   "execution_count": 7,
   "metadata": {},
   "outputs": [
    {
     "name": "stdout",
     "output_type": "stream",
     "text": [
      "INFO:tensorflow:Restoring parameters from ./my_test_model/VAE_Train1/l2_reg0.01/learing_rate0.0001/epoch10\n"
     ]
    }
   ],
   "source": [
    "# model restore\n",
    "#learning_rate = 0.005\n",
    "#le_reg  0.0001\n",
    "epoch = 10\n",
    "\n",
    "model_save_dir = './my_test_model/' + model_name+ '/l2_reg'+ str(l2_reg)+ '/learing_rate' + str(learning_rate) + '/epoch' + str(epoch)\n",
    "saver.restore(sess, model_save_dir)"
   ]
  },
  {
   "cell_type": "code",
   "execution_count": 8,
   "metadata": {},
   "outputs": [
    {
     "name": "stdout",
     "output_type": "stream",
     "text": [
      "mu=1.011858, sigma=0.567468\n",
      "threshold_1=2.334058, threshold_5=1.945342, threshold_10=1.738217, threshold_50=1.011858\n",
      "tn:11338.00000, fp:271.00000, fn:2567.00000, tp:8102.00000, total:.22278.000000\n",
      "accuracy: 0.87261, f1_score: 0.85096\n",
      "sensitivity : 0.75940, specificity : 0.97666\n",
      "precision : 0.96763, recall : 0.75940\n"
     ]
    }
   ],
   "source": [
    "# Reconstruction Error Threshold 계산\n",
    "input_data = X_train_inputs\n",
    "output_data = sess.run(outputs, feed_dict={X: input_data})\n",
    "total_data = X_train\n",
    "\n",
    "df_performance = get_df_performance(input_data=input_data, output_data=output_data, total_data=total_data)\n",
    "\n",
    "train_error = df_performance['error']\n",
    "mu, sigma = error_statistics_check(train_error)\n",
    "\n",
    "# 1%: mu + 2.33 * sigma\n",
    "# 5%: mu + 1.645 * sigma\n",
    "# 10%: mu + 1.28 * sigma \n",
    "\n",
    "threshold_1 = mu + (2.33 * sigma)\n",
    "threshold_5 = mu + (1.645 * sigma)\n",
    "threshold_10 = mu + (1.28 * sigma)\n",
    "threshold_50 = mu\n",
    "\n",
    "print(\"threshold_1=%f, threshold_5=%f, threshold_10=%f, threshold_50=%f\"%(threshold_1, threshold_5, threshold_10, threshold_50))\n",
    "\n",
    "# Test dataset으로 검증 \n",
    "input_data = X_test_inputs\n",
    "output_data = sess.run(outputs, feed_dict={X: input_data})\n",
    "total_data = X_test_total\n",
    "\n",
    "df_performance = get_df_performance(input_data=input_data, output_data=output_data, total_data=total_data)\n",
    "performance_check(threshold = threshold_1, df = df_performance)"
   ]
  },
  {
   "cell_type": "markdown",
   "metadata": {},
   "source": [
    "# Visualization"
   ]
  },
  {
   "cell_type": "code",
   "execution_count": 9,
   "metadata": {},
   "outputs": [
    {
     "data": {
      "image/png": "[encoded data removed]",
      "text/plain": [
       "<matplotlib.figure.Figure at 0x26c8aab5f98>"
      ]
     },
     "metadata": {},
     "output_type": "display_data"
    }
   ],
   "source": [
    "import numpy\n",
    "import matplotlib.pyplot as plt\n",
    "# test \n",
    "normal_error = df_performance[df_performance['attack_types'] == 'normal']['error']\n",
    "abnormal_error = df_performance[df_performance['attack_types'] == 'abnormal']['error']\n",
    "\n",
    "fig = plt.figure()\n",
    "bins = numpy.linspace(0, 3.5, 100)\n",
    "\n",
    "plt.title('Variational Autoencoder\\n(Train Data 1: Normal 99%, Abnormal 1%)')\n",
    "plt.xlabel('Reconstruction Errors')\n",
    "plt.ylabel('Frequency')\n",
    "plt.axvline(x=threshold_1, color='black', linestyle='dashed', label='threshold')\n",
    "plt.hist(normal_error, bins, alpha=0.5, label='normal')\n",
    "plt.hist(abnormal_error, bins, alpha=0.5, label='abnormal')\n",
    "plt.legend(loc='upper right', prop={'size': 8})\n",
    "plt.show()\n",
    "fig.savefig(model_save_dir+'.png')"
   ]
  },
  {
   "cell_type": "code",
   "execution_count": null,
   "metadata": {
    "collapsed": true
   },
   "outputs": [],
   "source": []
  },
  {
   "cell_type": "code",
   "execution_count": null,
   "metadata": {
    "collapsed": true
   },
   "outputs": [],
   "source": []
  }
 ],
 "metadata": {
  "kernelspec": {
   "display_name": "Python 3",
   "language": "python",
   "name": "python3"
  },
  "language_info": {
   "codemirror_mode": {
    "name": "ipython",
    "version": 3
   },
   "file_extension": ".py",
   "mimetype": "text/x-python",
   "name": "python",
   "nbconvert_exporter": "python",
   "pygments_lexer": "ipython3",
   "version": "3.5.4"
  }
 },
 "nbformat": 4,
 "nbformat_minor": 2
}
